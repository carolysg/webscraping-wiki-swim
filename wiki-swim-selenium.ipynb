{
 "cells": [
  {
   "attachments": {},
   "cell_type": "markdown",
   "metadata": {},
   "source": [
    "# Selenium"
   ]
  },
  {
   "attachments": {},
   "cell_type": "markdown",
   "metadata": {},
   "source": [
    "### 1. Passos iniciais"
   ]
  },
  {
   "attachments": {},
   "cell_type": "markdown",
   "metadata": {},
   "source": [
    "#### Importando bibliotecas"
   ]
  },
  {
   "cell_type": "code",
   "execution_count": 1,
   "metadata": {},
   "outputs": [],
   "source": [
    "from selenium import webdriver\n",
    "from selenium.webdriver.chrome.service import Service\n",
    "from webdriver_manager.chrome import ChromeDriverManager\n",
    "from selenium.webdriver.common.by import By\n",
    "from selenium.webdriver.common.keys import Keys"
   ]
  },
  {
   "attachments": {},
   "cell_type": "markdown",
   "metadata": {},
   "source": [
    "#### Verificando versão do Chrome, instalando webdriver e criando navegador"
   ]
  },
  {
   "cell_type": "code",
   "execution_count": 2,
   "metadata": {},
   "outputs": [],
   "source": [
    "servico = Service(ChromeDriverManager().install())\n",
    "navegador = webdriver.Chrome(service=servico)"
   ]
  },
  {
   "attachments": {},
   "cell_type": "markdown",
   "metadata": {},
   "source": [
    "### 2. Web-Scraping"
   ]
  },
  {
   "attachments": {},
   "cell_type": "markdown",
   "metadata": {},
   "source": [
    "#### Abrindo página escolhida"
   ]
  },
  {
   "cell_type": "code",
   "execution_count": 3,
   "metadata": {},
   "outputs": [],
   "source": [
    "navegador.get(r'https://www.wikipedia.org/')"
   ]
  },
  {
   "attachments": {},
   "cell_type": "markdown",
   "metadata": {},
   "source": [
    "#### Chegando na página específica"
   ]
  },
  {
   "cell_type": "code",
   "execution_count": 4,
   "metadata": {},
   "outputs": [],
   "source": [
    "navegador.find_element(By.ID, 'searchInput').send_keys('WR 50m freestyle swim')\n",
    "navegador.find_element(By.CLASS_NAME, 'pure-button.pure-button-primary-progressive').click()\n",
    "elementos = navegador.find_elements(By.CLASS_NAME, 'extiw')\n",
    "for elemento in elementos:\n",
    "    if \"progression\" in elemento.text.lower():\n",
    "        elemento.click()\n",
    "        break"
   ]
  },
  {
   "attachments": {},
   "cell_type": "markdown",
   "metadata": {},
   "source": [
    "#### Coletando informações"
   ]
  },
  {
   "cell_type": "code",
   "execution_count": 18,
   "metadata": {},
   "outputs": [
    {
     "name": "stdout",
     "output_type": "stream",
     "text": [
      "# Time Name Nationality Date Meet Location Ref\n",
      "1 23.86 † Jonty Skinner  South Africa Aug 14, 1976 AAU Nationals Philadelphia, Pennsylvania, United States\n",
      "2 23.74 Joe Bottom  United States Jul 3, 1977 Canada Cup Etobicoke, Canada\n",
      "3 23.72 Ron Manganiello  United States Jul 29, 1978 - Miami, Florida, United States\n",
      "4 23.70 Klaus Steinbach  West Germany Jul 23, 1979 - Freiburg, West Germany\n",
      "5 23.66 Chris Cavanaugh  United States Feb 2, 1980 International Invitational Amersfoort, Netherlands\n",
      "6 23.12 (h) Chris Cavanaugh  United States Apr 10, 1980 USA Spring Nationals Austin, Texas, United States\n",
      "7 22.96 (h) Rowdy Gaines  United States Apr 10, 1980 USA Spring Nationals Austin, Texas, United States\n",
      "8 22.83 (h) Bruce Stahl  United States Apr 10, 1980 USA Spring Nationals Austin, Texas, United States\n",
      "8= 22.83 (h) Joe Bottom  United States Aug 15, 1980 Hawaiian Invitational Honolulu, HI, United States\n",
      "9 22.71 Joe Bottom  United States Aug 15, 1980 Hawaiian Invitational Honolulu, HI, United States\n",
      "10 22.54 (h) Robin Leamy  United States Aug 15, 1981 USA Nationals Brown Deer, Wisconsin, United States\n",
      "11 22.52 Dano Halsall  Switzerland Jul 21, 1985 SUI Nationals Bellinzona, Switzerland\n",
      "12 22.40 Tom Jager  United States Dec 6, 1985 USS Invitational Austin, Texas, United States\n",
      "13 22.33 Matt Biondi  United States Jun 26, 1986 USA World Championship Trials Orlando, Florida, United States\n",
      "13= 22.33 Matt Biondi  United States Jul 30, 1987 USA Nationals & Pan Pacific Trials Clovis, California, United States\n",
      "14 22.32 Tom Jager  United States Aug 13, 1987 Pan Pacific Championships Brisbane, Australia\n",
      "15 22.23 Tom Jager  United States Mar 25, 1988 USA Spring Nationals Orlando, Florida, United States\n",
      "-[2] 22.18 Peter Williams  South Africa Apr 10, 1988 CSCA Invitational Indianapolis, Indiana, United States\n",
      "16 22.14 Matt Biondi  United States Sep 24, 1988 Olympic Games Seoul, South Korea\n",
      "17 22.12 Tom Jager  United States Aug 20, 1989 Pan Pacific Championships Tokyo, Japan\n",
      "18 21.98 (sf) Tom Jager  United States Mar 24, 1990 US Sprint Nashville, Tennessee, United States\n",
      "19 21.81 Tom Jager  United States Mar 24, 1990 US Sprint Nashville, Tennessee, United States\n",
      "20 21.64 (tt) Alexander Popov  Russia Jun 16, 2000 Russian Olympic Trials Moscow, Russia\n",
      "21 21.56 Eamon Sullivan  Australia Feb 17, 2008 New South Wales State Championships Sydney, Australia\n",
      "22 21.50 (sf2) Alain Bernard  France Mar 23, 2008 European Championships Eindhoven, Netherlands\n",
      "23 21.41 (sf2) Eamon Sullivan  Australia Mar 27, 2008 Australian Championships & Olympic Trials Sydney, Australia\n",
      "24 21.28 Eamon Sullivan  Australia Mar 28, 2008 Australian Championships & Olympic Trials Sydney, Australia [3]\n",
      "25 20.94 Frédérick Bousquet  France Apr 26, 2009 French Championships Montpellier, France [4]\n",
      "26 20.91 César Cielo  Brazil Dec 18, 2009 CBDA Open – Brazilian Championships São Paulo, Brazil [5]\n",
      "# Time Name Nationality Date Meet Location Ref\n",
      "1 21.76 Nils Rudolph  East Germany 10 February 1990 FINA World Cup Bonn, West Germany\n",
      "2 21.64 Steve Crocker  United States 21 March 1992 - Dallas, Texas, United States\n",
      "3 21.60 Mark Foster  Great Britain 17 February 1993 World Cup Sheffield, United Kingdom\n",
      "4 21.50 Alexander Popov  Russia 13 March 1994 World Cup Desenzano del Garda, Italy\n",
      "5 21.48 h Mark Foster  Great Britain 13 December 1998 European SC Championships Sheffield, United Kingdom\n",
      "6 21.31 Mark Foster  Great Britain 13 December 1998 European SC Championships Sheffield, United Kingdom\n",
      "6 21.31 h Roland Schoeman  South Africa 23 March 2000 NCAA Men's Division 1 Championships Minneapolis, Minnesota, United States\n",
      "7 21.21 Anthony Ervin  United States 23 March 2000 NCAA Men's Division 1 Championships Minneapolis, Minnesota, United States\n",
      "8 21.13 Mark Foster  Great Britain 28 January 2001 World Cup Paris, France\n",
      "9 21.10 Frédérick Bousquet  France 25 Mar 2004 NCAA Men's Division 1 Championships East Meadow, New York, United States\n",
      "10 20.98 h Roland Schoeman  South Africa 12 Aug 2006 Invitational Hamburg, Germany\n",
      "11 20.93 Stefan Nystrand  Sweden 18 November 2007 World Cup Berlin, Germany\n",
      "12 20.81 Duje Draganja  Croatia 11 April 2008 World SC Championships Manchester, United Kingdom\n",
      "13 20.64 Roland Schoeman  South Africa 7 September 2008 South African SC Championships Germiston, South Africa [6]\n",
      "14 20.48 Amaury Leveaux  France 11 December 2008 European SC Championships Rijeka, Croatia [7]\n",
      "15 20.30 Roland Schoeman  South Africa 8 August 2009 South African SC Championships Pietermaritzburg, South Africa [8]\n",
      "16 20.26 Florent Manaudou  France 5 December 2014 World Championships Doha, Qatar [9]\n",
      "17 20.24 Caeleb Dressel  United States 20 December 2019 International Swimming League Las Vegas, United States\n",
      "18 20.16 Caeleb Dressel  United States 21 November 2020 International Swimming League Budapest, Hungary [10]\n",
      "# Time Name Nationality Date Meet Location Ref\n",
      "1 26.99 r, † Kornelia Ender  East Germany Jul 26, 1975 World Championships Cali, Colombia\n",
      "2 26.95 Johanna Malloy  Canada Aug 16, 1977 Canada Summer Games St. John's, NL, Canada\n",
      "3 26.74 Anne Jardin  Canada Aug 19, 1978 Canada Summer Nationals Etobicoke, Canada\n",
      "4 26.61 h Cynthia Woodhead  United States Apr 10, 1980 USA Spring Nationals Austin, Texas, United States\n",
      "5 26.53 h Kelly Asplund  United States Apr 10, 1980 USA Spring Nationals Austin, Texas, United States\n",
      "6 26.32 h Jill Sterkel  United States Apr 10, 1980 USA Spring Nationals Austin, Texas, United States\n",
      "7 25.96 Jill Sterkel  United States Apr 10, 1980 USA Spring Nationals Austin, Texas, United States\n",
      "8 25.79 tt Jill Sterkel  United States Apr 3, 1981 Longhorn Invitational Austin, Texas, United States\n",
      "9 25.69 h Dara Torres  United States Jan 29, 1983 Speedo International Amersfoort, Netherlands\n",
      "10 25.64 Annemarie Verstappen  Netherlands Jul 9, 1983 NED Nationals Amersfoort, Netherlands\n",
      "11 25.62 Dara Torres  United States Aug 5, 1983 USA Nationals Clovis, California, United States\n",
      "12 25.61 r Dara Torres  United States Jul 21, 1984 Pre-Olympic meet Mission Viejo, California, United States\n",
      "13 25.50 h Tamara Costache  Romania Jul 16, 1986 ROU Nationals & World Championship Trials Bucharest, Romania\n",
      "14 25.34 Tamara Costache  Romania Jul 16, 1986 ROU Nationals & World Championship Trials Bucharest, Romania\n",
      "15 25.31 Tamara Costache  Romania Aug 1, 1986 Balkan Games Sofia, Bulgaria\n",
      "16 25.28 Tamara Costache  Romania Aug 23, 1986 World Championships Madrid, Spain\n",
      "17 24.98 Yang Wenyi  China Apr 11, 1988 Asian Swimming Championships Guangzhou, China\n",
      "18 24.79 Yang Wenyi  China Jul 31, 1992 Olympic Games Barcelona, Spain\n",
      "19 24.51 Le Jingyi  China Sep 11, 1994 World Championships Rome, Italy\n",
      "19= 24.51 h Inge de Bruijn  Netherlands May 26, 2000 Super Speedo Grand Prix Sheffield, United Kingdom\n",
      "20 24.48 Inge de Bruijn  Netherlands Jun 4, 2000 NED Olympic Trials Drachten, Netherlands\n",
      "21 24.39 Inge de Bruijn  Netherlands Jun 10, 2000 Trofeu Jose Finkel & BRA Olympic Trials Rio de Janeiro, Brazil\n",
      "22 24.13 sf Inge de Bruijn  Netherlands Sep 22, 2000 Olympic Games Sydney, Australia\n",
      "23 24.09 Marleen Veldhuis  Netherlands Mar 24, 2008 European Championships Eindhoven, Netherlands\n",
      "24 23.97 Libby Trickett  Australia Mar 29, 2008 Australian Championships & Olympic Trials Sydney, Australia [11]\n",
      "25 23.96 Marleen Veldhuis  Netherlands 19 Apr 2009 Amsterdam Swim Cup Amsterdam, Netherlands [12]\n",
      "26 23.73 Britta Steffen  Germany 2 Aug 2009 World Championships Rome, Italy\n",
      "27 23.67 sf Sarah Sjöström  Sweden 29 Jul 2017 World Championships Budapest, Hungary [13]\n",
      "# Time Name Nationality Date Meet Location Ref\n",
      "1 24.75 Franziska van Almsick  Germany 4 November 1992 - Schwäbisch Gmünd, Germany\n",
      "2 24.62 h Le Jingyi  China 3 December 1993 World Championships Palma de Mallorca, Spain\n",
      "3 24.23 Le Jingyi  China 3 December 1993 World Championships Palma de Mallorca, Spain\n",
      "4 24.09 Therese Alshammar  Sweden 11 December 1999 European Championships Lisbon, Portugal\n",
      "5 23.59 Therese Alshammar  Sweden 18 March 2000 World Championships Athens, Greece\n",
      "6 23.58 Marleen Veldhuis  Netherlands 17 November 2007 World Cup Berlin, Germany\n",
      "7 23.25 Marleen Veldhuis  Netherlands 13 April 2008 World Championships Manchester, United Kingdom [14]\n",
      "8 23.24 Ranomi Kromowidjojo  Netherlands 7 August 2013 World Cup Eindhoven, Netherlands\n",
      "8 23.24 = Ranomi Kromowidjojo  Netherlands 12 December 2015 Duel in the Pool Indianapolis, United States [15]\n",
      "9 23.10 Sarah Sjöström  Sweden 2 August 2017 World Cup Moscow, Russia [16]\n",
      "10 22.93 Ranomi Kromowidjojo  Netherlands 7 August 2017 World Cup Berlin, Germany [17]\n"
     ]
    }
   ],
   "source": [
    "lista_tabelas = navegador.find_elements(By.CLASS_NAME, 'wikitable.sortable.jquery-tablesorter')\n",
    "for tabela in lista_tabelas:\n",
    "    linha = tabela.find_elements(By.TAG_NAME, 'tr')\n",
    "    for observacao in linha:\n",
    "        print(observacao.text)"
   ]
  },
  {
   "cell_type": "code",
   "execution_count": null,
   "metadata": {},
   "outputs": [],
   "source": []
  }
 ],
 "metadata": {
  "kernelspec": {
   "display_name": "Python 3",
   "language": "python",
   "name": "python3"
  },
  "language_info": {
   "codemirror_mode": {
    "name": "ipython",
    "version": 3
   },
   "file_extension": ".py",
   "mimetype": "text/x-python",
   "name": "python",
   "nbconvert_exporter": "python",
   "pygments_lexer": "ipython3",
   "version": "3.11.2"
  },
  "orig_nbformat": 4
 },
 "nbformat": 4,
 "nbformat_minor": 2
}
